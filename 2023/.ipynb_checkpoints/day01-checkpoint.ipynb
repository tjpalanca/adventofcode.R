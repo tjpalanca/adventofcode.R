{
 "cells": [
  {
   "cell_type": "code",
   "execution_count": 1,
   "id": "61765bf0",
   "metadata": {},
   "outputs": [
    {
     "name": "stderr",
     "output_type": "stream",
     "text": [
      "\n",
      "Attaching package: ‘purrr’\n",
      "\n",
      "\n",
      "The following object is masked from ‘package:magrittr’:\n",
      "\n",
      "    set_names\n",
      "\n",
      "\n"
     ]
    }
   ],
   "source": [
    "library(readr)\n",
    "library(stringr)\n",
    "library(magrittr)\n",
    "library(purrr)"
   ]
  },
  {
   "cell_type": "code",
   "execution_count": 4,
   "id": "cf1de80b",
   "metadata": {},
   "outputs": [
    {
     "data": {
      "text/html": [
       "<style>\n",
       ".list-inline {list-style: none; margin:0; padding: 0}\n",
       ".list-inline>li {display: inline-block}\n",
       ".list-inline>li:not(:last-child)::after {content: \"\\00b7\"; padding: 0 .5ex}\n",
       "</style>\n",
       "<ol class=list-inline><li>'one'</li><li>'two'</li><li>'three'</li><li>'four'</li><li>'five'</li><li>'six'</li><li>'seven'</li><li>'eight'</li><li>'nine'</li></ol>\n"
      ],
      "text/latex": [
       "\\begin{enumerate*}\n",
       "\\item 'one'\n",
       "\\item 'two'\n",
       "\\item 'three'\n",
       "\\item 'four'\n",
       "\\item 'five'\n",
       "\\item 'six'\n",
       "\\item 'seven'\n",
       "\\item 'eight'\n",
       "\\item 'nine'\n",
       "\\end{enumerate*}\n"
      ],
      "text/markdown": [
       "1. 'one'\n",
       "2. 'two'\n",
       "3. 'three'\n",
       "4. 'four'\n",
       "5. 'five'\n",
       "6. 'six'\n",
       "7. 'seven'\n",
       "8. 'eight'\n",
       "9. 'nine'\n",
       "\n",
       "\n"
      ],
      "text/plain": [
       "[1] \"one\"   \"two\"   \"three\" \"four\"  \"five\"  \"six\"   \"seven\" \"eight\" \"nine\" "
      ]
     },
     "metadata": {},
     "output_type": "display_data"
    }
   ],
   "source": [
    "(digits <- map_chr(1:9, ~as.character(english::english(.))))"
   ]
  },
  {
   "cell_type": "code",
   "execution_count": 34,
   "id": "0532d1fd-c2c2-462b-b6fd-cabac1d0b83a",
   "metadata": {},
   "outputs": [
    {
     "name": "stdout",
     "output_type": "stream",
     "text": [
      "[1] \"([1-9]|one|two|three|four|five|six|seven|eight|nine)\"\n"
     ]
    }
   ],
   "source": [
    "(digits_regex <- paste0(\"([1-9]|\", str_c(digits, collapse = \"|\"), \")\"))"
   ]
  },
  {
   "cell_type": "code",
   "execution_count": 30,
   "id": "6b0d969a-adf3-44c3-9b00-e32daf994dd6",
   "metadata": {},
   "outputs": [
    {
     "data": {
      "text/html": [
       "55017"
      ],
      "text/latex": [
       "55017"
      ],
      "text/markdown": [
       "55017"
      ],
      "text/plain": [
       "[1] 55017"
      ]
     },
     "metadata": {},
     "output_type": "display_data"
    }
   ],
   "source": [
    "read_lines(\"day01.txt\") %>%\n",
    "  map_int(function(line) {\n",
    "    as.integer(str_c(\n",
    "      str_extract(line, \"[0-9]\"),\n",
    "      str_extract(stringi::stri_reverse(line), \"[0-9]\")\n",
    "    ))\n",
    "  }) %>%\n",
    "  sum()"
   ]
  },
  {
   "cell_type": "code",
   "execution_count": 31,
   "id": "a417c949-9624-47ee-93ed-828615d64856",
   "metadata": {},
   "outputs": [],
   "source": [
    "from_words <- function(input) {\n",
    "  if (input %in% digits) {\n",
    "    as.character(which(input == digits))\n",
    "  } else {\n",
    "    input\n",
    "  }\n",
    "}"
   ]
  },
  {
   "cell_type": "code",
   "execution_count": 33,
   "id": "a8685bab-331e-4df2-b7dd-450a33f21d29",
   "metadata": {},
   "outputs": [
    {
     "data": {
      "text/html": [
       "<ol>\n",
       "\t<li>'eight'</li>\n",
       "</ol>\n"
      ],
      "text/latex": [
       "\\begin{enumerate}\n",
       "\\item 'eight'\n",
       "\\end{enumerate}\n"
      ],
      "text/markdown": [
       "1. 'eight'\n",
       "\n",
       "\n"
      ],
      "text/plain": [
       "[[1]]\n",
       "[1] \"eight\"\n"
      ]
     },
     "metadata": {},
     "output_type": "display_data"
    }
   ],
   "source": [
    "str_extract_all(\"eightwo\", digits_regex)"
   ]
  }
 ],
 "metadata": {
  "kernelspec": {
   "display_name": "R",
   "language": "R",
   "name": "ir"
  },
  "language_info": {
   "codemirror_mode": "r",
   "file_extension": ".r",
   "mimetype": "text/x-r-source",
   "name": "R",
   "pygments_lexer": "r",
   "version": "4.4.1"
  }
 },
 "nbformat": 4,
 "nbformat_minor": 5
}
